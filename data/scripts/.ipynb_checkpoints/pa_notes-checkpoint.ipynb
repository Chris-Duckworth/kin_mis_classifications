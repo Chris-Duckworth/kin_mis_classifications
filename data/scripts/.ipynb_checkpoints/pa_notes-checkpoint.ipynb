{
 "cells": [
  {
   "cell_type": "code",
   "execution_count": 1,
   "metadata": {
    "collapsed": true
   },
   "outputs": [],
   "source": [
    "# This notebook contains notes about PA estimation for MPL-8."
   ]
  },
  {
   "cell_type": "code",
   "execution_count": 4,
   "metadata": {
    "collapsed": true
   },
   "outputs": [],
   "source": [
    "import numpy as np \n",
    "import pandas as pd\n",
    "from astropy.io import fits\n",
    "from mangadap.util.bitmask import BitMask\n",
    "import os"
   ]
  },
  {
   "cell_type": "code",
   "execution_count": 5,
   "metadata": {},
   "outputs": [],
   "source": [
    "drpall = fits.open('/Users/cd201/Data/MaNGA/MPL-8-DAP/find_maps/drpall-v2_5_3.fits')[1].data\n",
    "gal = drpall[(((drpall.mngtarg1 != 0) | (drpall.mngtarg3 != 0)) & ((drpall.mngtarg3 & int(2)**int(19)+int(2)**int(20)) == 0) )]\n",
    "sdssMaskbits = os.path.join(os.environ['IDLUTILS_DIR'], 'data', 'sdss', 'sdssMaskbits.par')\n",
    "bm = BitMask.from_par_file(sdssMaskbits, 'MANGA_DRP3QUAL')\n",
    "critical = bm.flagged(gal.drp3qual, flag='CRITICAL')\n",
    "data_dir = '/Users/cd201/Data/MaNGA/MPL-8-DAP/VOR10-GAU-MILESHC/'"
   ]
  },
  {
   "cell_type": "code",
   "execution_count": 11,
   "metadata": {},
   "outputs": [
    {
     "data": {
      "text/plain": [
       "(6387,)"
      ]
     },
     "execution_count": 11,
     "metadata": {},
     "output_type": "execute_result"
    }
   ],
   "source": [
    "gal[~critical].shape"
   ]
  }
 ],
 "metadata": {
  "kernelspec": {
   "display_name": "Python 3",
   "language": "python",
   "name": "python3"
  },
  "language_info": {
   "codemirror_mode": {
    "name": "ipython",
    "version": 3
   },
   "file_extension": ".py",
   "mimetype": "text/x-python",
   "name": "python",
   "nbconvert_exporter": "python",
   "pygments_lexer": "ipython3",
   "version": "3.6.3"
  }
 },
 "nbformat": 4,
 "nbformat_minor": 2
}
