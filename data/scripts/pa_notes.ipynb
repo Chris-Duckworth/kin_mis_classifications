{
 "cells": [
  {
   "cell_type": "code",
   "execution_count": 1,
   "metadata": {
    "collapsed": true
   },
   "outputs": [],
   "source": [
    "# This notebook contains notes about PA estimation for MPL-8."
   ]
  },
  {
   "cell_type": "code",
   "execution_count": 55,
   "metadata": {
    "collapsed": true
   },
   "outputs": [],
   "source": [
    "import numpy as np \n",
    "import pandas as pd\n",
    "from astropy.io import fits\n",
    "from mangadap.util.bitmask import BitMask\n",
    "import os\n",
    "import matplotlib.pyplot as plt\n",
    "from cap_display_pixels import display_pixels\n",
    "from fit_kinematic_pa import fit_kinematic_pa\n",
    "from skimage import morphology"
   ]
  },
  {
   "cell_type": "code",
   "execution_count": 25,
   "metadata": {
    "collapsed": true
   },
   "outputs": [],
   "source": [
    "def channel_dictionary(hdu, ext):\n",
    "    channel_dict = {}\n",
    "    for k, v in hdu[ext].header.items():\n",
    "        if k[0] == 'C':\n",
    "            try:\n",
    "                i = int(k[1:])-1\n",
    "            except ValueError:\n",
    "                continue\n",
    "            channel_dict[v] = i\n",
    "    return channel_dict"
   ]
  },
  {
   "cell_type": "code",
   "execution_count": 5,
   "metadata": {},
   "outputs": [],
   "source": [
    "drpall = fits.open('/Users/cd201/Data/MaNGA/MPL-8-DAP/find_maps/drpall-v2_5_3.fits')[1].data\n",
    "gal = drpall[(((drpall.mngtarg1 != 0) | (drpall.mngtarg3 != 0)) & ((drpall.mngtarg3 & int(2)**int(19)+int(2)**int(20)) == 0) )]\n",
    "sdssMaskbits = os.path.join(os.environ['IDLUTILS_DIR'], 'data', 'sdss', 'sdssMaskbits.par')\n",
    "bm = BitMask.from_par_file(sdssMaskbits, 'MANGA_DRP3QUAL')\n",
    "critical = bm.flagged(gal.drp3qual, flag='CRITICAL')\n",
    "data_dir = '/Users/cd201/Data/MaNGA/MPL-8-DAP/VOR10-GAU-MILESHC/'"
   ]
  },
  {
   "cell_type": "code",
   "execution_count": 15,
   "metadata": {},
   "outputs": [
    {
     "data": {
      "text/plain": [
       "(6387,)"
      ]
     },
     "execution_count": 15,
     "metadata": {},
     "output_type": "execute_result"
    }
   ],
   "source": [
    "gal[~critical].shape"
   ]
  },
  {
   "cell_type": "code",
   "execution_count": 23,
   "metadata": {
    "collapsed": true
   },
   "outputs": [],
   "source": [
    "# Pulling rando galaxy and finding velcity fields.\n",
    "gal_str = gal[~critical]['plateifu'][0]\n",
    "# Note: gal.plateifu provides a raw string array and gal['plateifu'] provides a unicode array. Certain unicode characters cannot be converted to raw string.\n",
    "# Finding base MAPS directory and pulling individual files. (SET UP ENVIRONMENT)\n",
    "file_name = 'manga-'+gal_str+'-MAPS-VOR10-MILESHC-MILESHC.fits.gz'\n",
    "file_path = os.path.join(data_dir, gal_str.split(\"-\")[0], gal_str.split(\"-\")[1],file_name)"
   ]
  },
  {
   "cell_type": "code",
   "execution_count": 27,
   "metadata": {},
   "outputs": [],
   "source": [
    "# Checking if file exists and then returning stellar/gas vfields.\n",
    "if os.path.isfile(file_path) == False: \n",
    "    print(gal_str+' missing')\n",
    "else:\n",
    "    hdu = fits.open(file_path)\n",
    "    emlc = channel_dictionary(hdu, 'EMLINE_GVEL')\n",
    "    grid = hdu['SPX_SKYCOO'].data\n",
    "    smask_ext = hdu['STELLAR_VEL'].header['QUALDATA']\n",
    "    stellar_vfield = np.ma.MaskedArray(hdu['STELLAR_VEL'].data, mask=hdu[smask_ext].data > 0)\n",
    "    gmask_ext = hdu['EMLINE_GVEL'].header['QUALDATA']\n",
    "    halpha_vfield = np.ma.MaskedArray(hdu['EMLINE_GVEL'].data[emlc['Ha-6564'],:,:], mask=hdu[gmask_ext].data[emlc['Ha-6564'],:,:] > 0)"
   ]
  },
  {
   "cell_type": "code",
   "execution_count": 47,
   "metadata": {},
   "outputs": [
    {
     "data": {
      "image/png": "[encoded data removed]",
      "text/plain": [
       "<matplotlib.figure.Figure at 0x11578fb70>"
      ]
     },
     "metadata": {},
     "output_type": "display_data"
    }
   ],
   "source": [
    "# init fig.\n",
    "fig, ax = plt.subplots(1,2, figsize=(10,3))\n",
    "# display_pixels doesn't like obj-orientated matplotlib\n",
    "plt.sca(ax[0])\n",
    "display_pixels(grid[0][~stellar_vfield.mask],grid[1][~stellar_vfield.mask],stellar_vfield[~stellar_vfield.mask],colorbar=True)\n",
    "ax[0].set_title('STAR-'+str(gal_str))\n",
    "\n",
    "plt.sca(ax[1])\n",
    "display_pixels(grid[0][~halpha_vfield.mask],grid[1][~halpha_vfield.mask],halpha_vfield[~halpha_vfield.mask],colorbar=True)\n",
    "ax[1].set_title('GAS-'+str(gal_str))\n",
    "\n",
    "ax[0].set_xlim([np.min(grid[0]), np.max(grid[0])])\n",
    "ax[0].set_ylim([np.min(grid[1]), np.max(grid[1])])\n",
    "ax[1].set_xlim([np.min(grid[0]), np.max(grid[0])])\n",
    "ax[1].set_ylim([np.min(grid[1]), np.max(grid[1])])\n",
    "ax[0].set_xlabel('arcsec')\n",
    "ax[0].set_ylabel('arcsec')\n",
    "ax[1].set_xlabel('arcsec')\n",
    "ax[1].set_ylabel('arcsec')\n",
    "plt.show()"
   ]
  },
  {
   "cell_type": "code",
   "execution_count": 50,
   "metadata": {
    "collapsed": true
   },
   "outputs": [],
   "source": [
    "# Given a path to maps file this returns the stellar and halpha velocity fields and coordinates.\n",
    "# X (Y) coordinates accessed by grid[0] (1).\n",
    "\n",
    "def load_vfields(file_path):\n",
    "    # Checking if file exists and then returning stellar/gas vfields.\n",
    "    if os.path.isfile(file_path) == False: \n",
    "        print(gal_str+' missing')\n",
    "        return np.nan, np.nan, np.nan \n",
    "\n",
    "    hdu = fits.open(file_path)\n",
    "    emlc = channel_dictionary(hdu, 'EMLINE_GVEL')\n",
    "    grid = hdu['SPX_SKYCOO'].data\n",
    "    smask_ext = hdu['STELLAR_VEL'].header['QUALDATA']\n",
    "    stellar_vfield = np.ma.MaskedArray(hdu['STELLAR_VEL'].data, mask=hdu[smask_ext].data > 0)\n",
    "    gmask_ext = hdu['EMLINE_GVEL'].header['QUALDATA']\n",
    "    halpha_vfield = np.ma.MaskedArray(hdu['EMLINE_GVEL'].data[emlc['Ha-6564'],:,:], mask=hdu[gmask_ext].data[emlc['Ha-6564'],:,:] > 0) \n",
    "    return grid, stellar_vfield, halpha_vfield\n",
    "    "
   ]
  },
  {
   "cell_type": "code",
   "execution_count": 51,
   "metadata": {},
   "outputs": [],
   "source": [
    "grid, stellar_vfield, halpha_vfield = load_vfields(file_path)"
   ]
  },
  {
   "cell_type": "code",
   "execution_count": 70,
   "metadata": {
    "collapsed": true
   },
   "outputs": [],
   "source": [
    "def reg_remove(vfield, thres=0.1):\n",
    "    # Only mask required for region size identifier.\n",
    "    # Selecting total number of pixels with observation, NOT, the total area.\n",
    "    ms = thres * np.sum(~vfield.mask.flatten())\n",
    "    reg_filter = morphology.remove_small_objects(~vfield.mask, min_size = ms)\n",
    "    return reg_filter"
   ]
  },
  {
   "cell_type": "code",
   "execution_count": 96,
   "metadata": {},
   "outputs": [
    {
     "name": "stderr",
     "output_type": "stream",
     "text": [
      "/Users/cd201/anaconda3/lib/python3.6/site-packages/skimage/morphology/misc.py:122: UserWarning: Only one label was provided to `remove_small_objects`. Did you mean to use a boolean array?\n",
      "  warn(\"Only one label was provided to `remove_small_objects`. \"\n"
     ]
    }
   ],
   "source": [
    "stel_reg = reg_remove(stellar_vfield)"
   ]
  },
  {
   "cell_type": "code",
   "execution_count": 101,
   "metadata": {
    "collapsed": true
   },
   "outputs": [],
   "source": [
    "# Testing library of functions from pa_funcs."
   ]
  },
  {
   "cell_type": "code",
   "execution_count": 106,
   "metadata": {
    "collapsed": true
   },
   "outputs": [],
   "source": [
    "import pa_funcs\n",
    "import imp"
   ]
  },
  {
   "cell_type": "code",
   "execution_count": 175,
   "metadata": {},
   "outputs": [
    {
     "data": {
      "text/plain": [
       "<module 'pa_funcs' from '/Users/cd201/mpl8-kin-mis/scripts/pa_funcs.py'>"
      ]
     },
     "execution_count": 175,
     "metadata": {},
     "output_type": "execute_result"
    }
   ],
   "source": [
    "imp.reload(pa_funcs)"
   ]
  },
  {
   "cell_type": "code",
   "execution_count": 176,
   "metadata": {},
   "outputs": [
    {
     "name": "stderr",
     "output_type": "stream",
     "text": [
      "/Users/cd201/anaconda3/lib/python3.6/site-packages/skimage/morphology/misc.py:122: UserWarning: Only one label was provided to `remove_small_objects`. Did you mean to use a boolean array?\n",
      "  warn(\"Only one label was provided to `remove_small_objects`. \"\n",
      "/Users/cd201/anaconda3/lib/python3.6/site-packages/numpy/core/fromnumeric.py:664: UserWarning: Warning: 'partition' will ignore the 'mask' of the MaskedArray.\n",
      "  a.partition(kth, axis=axis, kind=kind, order=order)\n"
     ]
    },
    {
     "data": {
      "image/png": "[encoded data removed]",
      "text/plain": [
       "<matplotlib.figure.Figure at 0x1c2c16d908>"
      ]
     },
     "metadata": {},
     "output_type": "display_data"
    }
   ],
   "source": [
    "plt.close()\n",
    "saxis, gaxis = pa_funcs.pa_wrapper(file_path)\n",
    "plt.show()"
   ]
  }
 ],
 "metadata": {
  "kernelspec": {
   "display_name": "Python 3",
   "language": "python",
   "name": "python3"
  },
  "language_info": {
   "codemirror_mode": {
    "name": "ipython",
    "version": 3
   },
   "file_extension": ".py",
   "mimetype": "text/x-python",
   "name": "python",
   "nbconvert_exporter": "python",
   "pygments_lexer": "ipython3",
   "version": "3.6.3"
  }
 },
 "nbformat": 4,
 "nbformat_minor": 2
}
