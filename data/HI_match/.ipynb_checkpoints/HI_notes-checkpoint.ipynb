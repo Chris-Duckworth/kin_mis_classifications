{
 "cells": [
  {
   "cell_type": "markdown",
   "metadata": {},
   "source": [
    "This script takes a look at the HI VAC for MaNGA (as of 8/4/19)\n",
    "- The idea here is to see if HI content holds any correlation with misalignment fraction.\n",
    "- Keep in mind those without PA definition will naturally contain less gas (ionised at least)."
   ]
  },
  {
   "cell_type": "code",
   "execution_count": 1,
   "metadata": {
    "collapsed": true
   },
   "outputs": [],
   "source": [
    "import numpy as np\n",
    "from astropy.io import fits\n",
    "import pandas as pd"
   ]
  },
  {
   "cell_type": "markdown",
   "metadata": {},
   "source": [
    "ALFALFA match to MaNGA\n",
    "http://egg.astro.cornell.edu/alfalfa/data/index.php"
   ]
  },
  {
   "cell_type": "code",
   "execution_count": null,
   "metadata": {
    "collapsed": true
   },
   "outputs": [],
   "source": []
  },
  {
   "cell_type": "markdown",
   "metadata": {},
   "source": [
    "Green bank observations for MaNGA galaxies.\n",
    "https://data.sdss.org/datamodel/files/MANGA_HI/HIPVER/mangaHIall.html\n",
    "- The description is probably relevant for the ALFALFA match also.\n",
    "\n",
    "Key columns:\n",
    "- logHIlim200kms\t(float32 Msun) For non-detections, the log of the HI mass limit (in solar masses) assuming a width of 200 km/s and D = vopt/70 Mpc/km/s\n",
    "- logMHI\t(float32\tMsun)\tLog of the HI mass (in solar masses) assuming D = vopt/70 Mpc/km/s\n",
    "- snr\t(float32)\tThe peak S/N ratio"
   ]
  },
  {
   "cell_type": "code",
   "execution_count": 2,
   "metadata": {},
   "outputs": [
    {
     "name": "stdout",
     "output_type": "stream",
     "text": [
      "Filename: /Users/cd201/mpl8-kin-mis/HI_match/mangaHI_2017cat_040419.fits\n",
      "No.    Name      Ver    Type      Cards   Dimensions   Format\n",
      "  0  PRIMARY       1 PrimaryHDU       4   ()      \n",
      "  1                1 BinTableHDU     69   645R x 26C   [10A, 8A, D, D, E, 79A, E, E, E, E, E, E, E, E, E, E, E, E, E, E, E, E, E, E, E, E]   \n"
     ]
    }
   ],
   "source": [
    "hdu = fits.open('/Users/cd201/mpl8-kin-mis/HI_match/mangaHI_2017cat_040419.fits')\n",
    "hdu.info()"
   ]
  },
  {
   "cell_type": "code",
   "execution_count": 4,
   "metadata": {},
   "outputs": [
    {
     "data": {
      "text/plain": [
       "XTENSION= 'BINTABLE'           /Binary table written by MWRFITS v1.13           \n",
       "BITPIX  =                    8 /Required value                                  \n",
       "NAXIS   =                    2 /Required value                                  \n",
       "NAXIS1  =                  197 /Number of bytes per row                         \n",
       "NAXIS2  =                  645 /Number of rows                                  \n",
       "PCOUNT  =                    0 /Normally 0 (no varying arrays)                  \n",
       "GCOUNT  =                    1 /Required value                                  \n",
       "TFIELDS =                   26 /Number of columns in table                      \n",
       "COMMENT                                                                         \n",
       "COMMENT  *** End of mandatory fields ***                                        \n",
       "COMMENT                                                                         \n",
       "COMMENT                                                                         \n",
       "COMMENT  *** Column names ***                                                   \n",
       "COMMENT                                                                         \n",
       "TTYPE1  = 'PLATEIFU'           /                                                \n",
       "TTYPE2  = 'MANGAID '           /                                                \n",
       "TTYPE3  = 'OBJRA   '           /                                                \n",
       "TTYPE4  = 'OBJDEC  '           /                                                \n",
       "TTYPE5  = 'VOPT    '           /                                                \n",
       "TTYPE6  = 'SESSION '           /                                                \n",
       "TTYPE7  = 'EXP     '           /                                                \n",
       "TTYPE8  = 'RMS     '           /                                                \n",
       "TTYPE9  = 'LOGHILIM200KMS'     /                                                \n",
       "TTYPE10 = 'PEAK    '           /                                                \n",
       "TTYPE11 = 'SNR     '           /                                                \n",
       "TTYPE12 = 'FHI     '           /                                                \n",
       "TTYPE13 = 'LOGMHI  '           /                                                \n",
       "TTYPE14 = 'VHI     '           /                                                \n",
       "TTYPE15 = 'EV      '           /                                                \n",
       "TTYPE16 = 'WM50    '           /                                                \n",
       "TTYPE17 = 'WP50    '           /                                                \n",
       "TTYPE18 = 'WP20    '           /                                                \n",
       "TTYPE19 = 'W2P50   '           /                                                \n",
       "TTYPE20 = 'WF50    '           /                                                \n",
       "TTYPE21 = 'PR      '           /                                                \n",
       "TTYPE22 = 'PL      '           /                                                \n",
       "TTYPE23 = 'AR      '           /                                                \n",
       "TTYPE24 = 'BR      '           /                                                \n",
       "TTYPE25 = 'AL      '           /                                                \n",
       "TTYPE26 = 'BL      '           /                                                \n",
       "COMMENT                                                                         \n",
       "COMMENT  *** Column formats ***                                                 \n",
       "COMMENT                                                                         \n",
       "TFORM1  = '10A     '           /                                                \n",
       "TFORM2  = '8A      '           /                                                \n",
       "TFORM3  = 'D       '           /                                                \n",
       "TFORM4  = 'D       '           /                                                \n",
       "TFORM5  = 'E       '           /                                                \n",
       "TFORM6  = '79A     '           /                                                \n",
       "TFORM7  = 'E       '           /                                                \n",
       "TFORM8  = 'E       '           /                                                \n",
       "TFORM9  = 'E       '           /                                                \n",
       "TFORM10 = 'E       '           /                                                \n",
       "TFORM11 = 'E       '           /                                                \n",
       "TFORM12 = 'E       '           /                                                \n",
       "TFORM13 = 'E       '           /                                                \n",
       "TFORM14 = 'E       '           /                                                \n",
       "TFORM15 = 'E       '           /                                                \n",
       "TFORM16 = 'E       '           /                                                \n",
       "TFORM17 = 'E       '           /                                                \n",
       "TFORM18 = 'E       '           /                                                \n",
       "TFORM19 = 'E       '           /                                                \n",
       "TFORM20 = 'E       '           /                                                \n",
       "TFORM21 = 'E       '           /                                                \n",
       "TFORM22 = 'E       '           /                                                \n",
       "TFORM23 = 'E       '           /                                                \n",
       "TFORM24 = 'E       '           /                                                \n",
       "TFORM25 = 'E       '           /                                                \n",
       "TFORM26 = 'E       '           /                                                "
      ]
     },
     "execution_count": 4,
     "metadata": {},
     "output_type": "execute_result"
    }
   ],
   "source": [
    "hdu[1].header"
   ]
  }
 ],
 "metadata": {
  "kernelspec": {
   "display_name": "Python 3",
   "language": "python",
   "name": "python3"
  },
  "language_info": {
   "codemirror_mode": {
    "name": "ipython",
    "version": 3
   },
   "file_extension": ".py",
   "mimetype": "text/x-python",
   "name": "python",
   "nbconvert_exporter": "python",
   "pygments_lexer": "ipython3",
   "version": "3.6.3"
  }
 },
 "nbformat": 4,
 "nbformat_minor": 2
}
