{
 "cells": [
  {
   "cell_type": "markdown",
   "metadata": {},
   "source": [
    "### This script takes the MPL8 private data catalogue and cuts out the non-public galaxies."
   ]
  },
  {
   "cell_type": "code",
   "execution_count": 3,
   "metadata": {
    "collapsed": true
   },
   "outputs": [],
   "source": [
    "import pandas as pd\n",
    "import numpy as np"
   ]
  },
  {
   "cell_type": "code",
   "execution_count": 7,
   "metadata": {},
   "outputs": [],
   "source": [
    "mpl8 = pd.read_csv('/Users/cd201/mpl8-kin-mis/catalogues/current_release/mpl8-pa-classifications-v0_1-drpall.csv', comment='#')\n",
    "mpl6 = pd.read_csv('/Users/cd201/mpl-6-pa-proj/catalogues/mpl6_full_kinematic_info_wsample_flag.csv')"
   ]
  },
  {
   "cell_type": "code",
   "execution_count": 15,
   "metadata": {},
   "outputs": [],
   "source": [
    "outtab = mpl8[np.in1d(mpl8.plateifu.values, mpl6.plate_ifu.values)]\n",
    "outtab.to_csv('/Users/cd201/mpl8-kin-mis/catalogues/mpl7-pa-classifications-v0_1-drpall.csv')"
   ]
  },
  {
   "cell_type": "code",
   "execution_count": 17,
   "metadata": {},
   "outputs": [
    {
     "data": {
      "text/plain": [
       "Index(['plateifu', 'stellar_pa', 'halpha_pa', 'pa_offset', 'stel_qual',\n",
       "       'stel_feature', 'halpha_qual', 'halpha_feature', 'halpha_notes',\n",
       "       'plate',\n",
       "       ...\n",
       "       'nsa_petro_flux', 'nsa_petro_flux_ivar', 'nsa_elpetro_flux',\n",
       "       'nsa_elpetro_flux_ivar', 'nsa_sersic_ba', 'nsa_sersic_n',\n",
       "       'nsa_sersic_phi', 'nsa_sersic_th50', 'nsa_sersic_flux',\n",
       "       'nsa_sersic_flux_ivar'],\n",
       "      dtype='object', length=108)"
      ]
     },
     "execution_count": 17,
     "metadata": {},
     "output_type": "execute_result"
    }
   ],
   "source": [
    "outtab.columns"
   ]
  }
 ],
 "metadata": {
  "kernelspec": {
   "display_name": "Python 3",
   "language": "python",
   "name": "python3"
  },
  "language_info": {
   "codemirror_mode": {
    "name": "ipython",
    "version": 3
   },
   "file_extension": ".py",
   "mimetype": "text/x-python",
   "name": "python",
   "nbconvert_exporter": "python",
   "pygments_lexer": "ipython3",
   "version": "3.6.3"
  }
 },
 "nbformat": 4,
 "nbformat_minor": 2
}
