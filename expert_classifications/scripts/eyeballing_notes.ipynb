{
 "cells": [
  {
   "cell_type": "markdown",
   "metadata": {},
   "source": [
    "In this script we investigate a cleaner way of eyeballing vfields to remove confusion of having a long list of files."
   ]
  },
  {
   "cell_type": "code",
   "execution_count": 45,
   "metadata": {
    "collapsed": true
   },
   "outputs": [],
   "source": [
    "import os \n",
    "import numpy as np\n",
    "import pandas as pd\n",
    "import subprocess\n",
    "import time\n",
    "import signal"
   ]
  },
  {
   "cell_type": "code",
   "execution_count": 27,
   "metadata": {
    "collapsed": true
   },
   "outputs": [],
   "source": [
    "file_dir = '/Users/cd201/mpl8-kin-mis/plots/pa_fits/'\n",
    "preview = '/Applications/Preview.app/Contents/MacOS/Preview'\n",
    "adobe = '/Applications/Adobe Acrobat Reader DC.app/Contents/MacOS/AdobeReader'"
   ]
  },
  {
   "cell_type": "code",
   "execution_count": 31,
   "metadata": {},
   "outputs": [],
   "source": [
    "path = '/Users/cd201/mpl8-kin-mis/plots/pa_fits/10510-6103-PA.pdf'"
   ]
  },
  {
   "cell_type": "code",
   "execution_count": 16,
   "metadata": {},
   "outputs": [],
   "source": [
    "img = subprocess.Popen([preview, path])"
   ]
  },
  {
   "cell_type": "code",
   "execution_count": 30,
   "metadata": {
    "collapsed": true
   },
   "outputs": [],
   "source": [
    "p = subprocess.Popen([adobe, path], stdout=subprocess.PIPE)"
   ]
  },
  {
   "cell_type": "code",
   "execution_count": 31,
   "metadata": {
    "collapsed": true
   },
   "outputs": [],
   "source": [
    "p.kill()"
   ]
  },
  {
   "cell_type": "code",
   "execution_count": 3,
   "metadata": {},
   "outputs": [],
   "source": [
    "# Loading in csv containing all of the galaxies.\n",
    "tab_raw = pd.read_csv('/Users/cd201/mpl8-kin-mis/catalogues/MPL8-PA-FIT-RAW.csv')"
   ]
  },
  {
   "cell_type": "code",
   "execution_count": 32,
   "metadata": {},
   "outputs": [
    {
     "name": "stdout",
     "output_type": "stream",
     "text": [
      "Continue?y\n",
      "Continue?y\n",
      "Continue?y\n",
      "Continue?y\n",
      "Continue?y\n"
     ]
    }
   ],
   "source": [
    "for pifu in tab_raw.plateifu[0:5]:\n",
    "    path = file_dir + str(pifu) + '-PA.pdf'\n",
    "    \n",
    "    # Checking if file exists.\n",
    "    if os.path.isfile(path) == True:\n",
    "        p = subprocess.Popen([adobe, path], stdout=subprocess.PIPE)\n",
    "        #p = subprocess.Popen(['open','-a','Preview',path], stdout=subprocess.PIPE, preexec_fn=os.setsid)\n",
    "        #p = subprocess.Popen([preview, path], stdout=subprocess.PIPE, preexec_fn=os.setsid)\n",
    "        con = input('Continue?')\n",
    "        if con == 'y':\n",
    "            p.kill()\n"
   ]
  },
  {
   "cell_type": "code",
   "execution_count": 25,
   "metadata": {},
   "outputs": [
    {
     "name": "stdout",
     "output_type": "stream",
     "text": [
      "Continue?y\n"
     ]
    },
    {
     "ename": "ProcessLookupError",
     "evalue": "[Errno 3] No such process",
     "output_type": "error",
     "traceback": [
      "\u001b[0;31m---------------------------------------------------------------------------\u001b[0m",
      "\u001b[0;31mProcessLookupError\u001b[0m                        Traceback (most recent call last)",
      "\u001b[0;32m<ipython-input-25-45450ad2ad5e>\u001b[0m in \u001b[0;36m<module>\u001b[0;34m()\u001b[0m\n\u001b[1;32m      1\u001b[0m \u001b[0mp\u001b[0m \u001b[0;34m=\u001b[0m \u001b[0msubprocess\u001b[0m\u001b[0;34m.\u001b[0m\u001b[0mPopen\u001b[0m\u001b[0;34m(\u001b[0m\u001b[0;34m[\u001b[0m\u001b[0;34m'open'\u001b[0m\u001b[0;34m,\u001b[0m\u001b[0;34m'-a'\u001b[0m\u001b[0;34m,\u001b[0m\u001b[0;34m'Preview'\u001b[0m\u001b[0;34m,\u001b[0m\u001b[0mpath\u001b[0m\u001b[0;34m]\u001b[0m\u001b[0;34m,\u001b[0m \u001b[0mstdout\u001b[0m\u001b[0;34m=\u001b[0m\u001b[0msubprocess\u001b[0m\u001b[0;34m.\u001b[0m\u001b[0mPIPE\u001b[0m\u001b[0;34m,\u001b[0m \u001b[0mpreexec_fn\u001b[0m\u001b[0;34m=\u001b[0m\u001b[0mos\u001b[0m\u001b[0;34m.\u001b[0m\u001b[0msetsid\u001b[0m\u001b[0;34m)\u001b[0m\u001b[0;34m\u001b[0m\u001b[0m\n\u001b[1;32m      2\u001b[0m \u001b[0;32mif\u001b[0m \u001b[0minput\u001b[0m\u001b[0;34m(\u001b[0m\u001b[0;34m'Continue?'\u001b[0m\u001b[0;34m)\u001b[0m \u001b[0;34m==\u001b[0m \u001b[0;34m'y'\u001b[0m\u001b[0;34m:\u001b[0m\u001b[0;34m\u001b[0m\u001b[0m\n\u001b[0;32m----> 3\u001b[0;31m     \u001b[0mos\u001b[0m\u001b[0;34m.\u001b[0m\u001b[0mkillpg\u001b[0m\u001b[0;34m(\u001b[0m\u001b[0mos\u001b[0m\u001b[0;34m.\u001b[0m\u001b[0mgetpgid\u001b[0m\u001b[0;34m(\u001b[0m\u001b[0mp\u001b[0m\u001b[0;34m.\u001b[0m\u001b[0mpid\u001b[0m\u001b[0;34m)\u001b[0m\u001b[0;34m,\u001b[0m \u001b[0msignal\u001b[0m\u001b[0;34m.\u001b[0m\u001b[0mSIGTERM\u001b[0m\u001b[0;34m)\u001b[0m\u001b[0;34m\u001b[0m\u001b[0m\n\u001b[0m",
      "\u001b[0;31mProcessLookupError\u001b[0m: [Errno 3] No such process"
     ]
    }
   ],
   "source": [
    "p = subprocess.Popen(['open','-a','Preview',path], stdout=subprocess.PIPE, preexec_fn=os.setsid)\n",
    "if input('Continue?') == 'y':\n",
    "    os.killpg(os.getpgid(p.pid), signal.SIGTERM)"
   ]
  },
  {
   "cell_type": "code",
   "execution_count": 15,
   "metadata": {
    "collapsed": true
   },
   "outputs": [],
   "source": [
    "p = subprocess.call(['open','-a','Preview',path], stdout=subprocess.PIPE, preexec_fn=os.setsid)"
   ]
  },
  {
   "cell_type": "code",
   "execution_count": 39,
   "metadata": {},
   "outputs": [
    {
     "data": {
      "text/plain": [
       "0    10001-12701\n",
       "1    10001-12702\n",
       "Name: plateifu, dtype: object"
      ]
     },
     "execution_count": 39,
     "metadata": {},
     "output_type": "execute_result"
    }
   ],
   "source": [
    "tab_raw.plateifu[0:2]"
   ]
  },
  {
   "cell_type": "code",
   "execution_count": null,
   "metadata": {
    "collapsed": true
   },
   "outputs": [],
   "source": []
  },
  {
   "cell_type": "code",
   "execution_count": 33,
   "metadata": {
    "collapsed": true
   },
   "outputs": [],
   "source": [
    "# Preview seems to have some weird bug so using adobe. Trying a script which accepts input to save to dataframe."
   ]
  },
  {
   "cell_type": "code",
   "execution_count": 56,
   "metadata": {
    "collapsed": true
   },
   "outputs": [],
   "source": [
    "import os \n",
    "import numpy as np\n",
    "import pandas as pd\n",
    "import subprocess\n",
    "import time"
   ]
  },
  {
   "cell_type": "code",
   "execution_count": 57,
   "metadata": {
    "collapsed": true
   },
   "outputs": [],
   "source": [
    "# Loading in csv containing all of the galaxies.\n",
    "tab_raw = pd.read_csv('/Users/cd201/mpl8-kin-mis/catalogues/MPL8-PA-FIT-RAW.csv')"
   ]
  },
  {
   "cell_type": "code",
   "execution_count": 59,
   "metadata": {
    "collapsed": true
   },
   "outputs": [],
   "source": [
    "file_dir = '/Users/cd201/mpl8-kin-mis/plots/pa_fits/'\n",
    "adobe = '/Applications/Adobe Acrobat Reader DC.app/Contents/MacOS/AdobeReader'\n",
    "outpath = '/Users/cd201/mpl8-kin-mis/catalogues/raw_classifications-'"
   ]
  },
  {
   "cell_type": "code",
   "execution_count": null,
   "metadata": {
    "collapsed": true
   },
   "outputs": [],
   "source": [
    "plateifus = tab_raw.plateifu\n",
    "classifications = np.full(plateifus.shape, -99)\n",
    "\n",
    "for i, pifu in enumerate(plateifus):\n",
    "    # Finding file.\n",
    "    path = file_dir + str(pifu) + '-PA.pdf'\n",
    "    \n",
    "    # Checking if file exists.\n",
    "    if os.path.isfile(path) == True:\n",
    "        # If it does, opening in adobe reader.\n",
    "        p = subprocess.Popen([adobe, path], stdout=subprocess.PIPE)\n",
    "        \n",
    "        # Asking for classification.\n",
    "        response = input('Please classify this galaxy. ID:'+str(pifu)+'. Type wut for more info on classifications. \\n') \n",
    "        \n",
    "        while response == 'wut':\n",
    "            print('\\n0: Dont use \\n1: Messy \\n2: Incoherent Gas rot but clean stellar \\n3: Clean! \\n4: KDC \\n5: Warp')\n",
    "            time.sleep(0.5)\n",
    "            response = input('So whats it going to be? \\n')\n",
    "        \n",
    "        try:\n",
    "            response = int(response)          \n",
    "        except ValueError:  \n",
    "            while type(response) == str:\n",
    "                try:\n",
    "                    response = int(response)   \n",
    "                except ValueError:\n",
    "                    response = input('0-5 please. \\n')\n",
    "        \n",
    "        classifications[i] = response\n",
    "        p.kill()\n",
    "        \n",
    "    # If file doesn't exist, the classification is void. \n",
    "    else:\n",
    "        classifications[i] = -99\n",
    "        print(str(pifu)+' not found.')\n",
    "    \n",
    "    # Saving every 50 classifications.\n",
    "    if i % 50 == 0:\n",
    "        print(str(i)+' down. Backing up classifications.')\n",
    "        tab_raw['classification'] = classifications\n",
    "        tab_raw.to_csv(outpath+str(i)+'.csv', index=None)"
   ]
  },
  {
   "cell_type": "code",
   "execution_count": 61,
   "metadata": {},
   "outputs": [
    {
     "data": {
      "text/plain": [
       "array([ 3.,  3.,  3., ..., nan, nan, nan])"
      ]
     },
     "execution_count": 61,
     "metadata": {},
     "output_type": "execute_result"
    }
   ],
   "source": [
    "classifications"
   ]
  }
 ],
 "metadata": {
  "kernelspec": {
   "display_name": "Python 3",
   "language": "python",
   "name": "python3"
  },
  "language_info": {
   "codemirror_mode": {
    "name": "ipython",
    "version": 3
   },
   "file_extension": ".py",
   "mimetype": "text/x-python",
   "name": "python",
   "nbconvert_exporter": "python",
   "pygments_lexer": "ipython3",
   "version": "3.6.3"
  }
 },
 "nbformat": 4,
 "nbformat_minor": 2
}
