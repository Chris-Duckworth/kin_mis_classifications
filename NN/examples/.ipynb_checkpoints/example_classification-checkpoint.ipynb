{
 "cells": [
  {
   "cell_type": "markdown",
   "metadata": {},
   "source": [
    "# example_classification \n",
    "- Basic example usage to process a velocity field and return the usability score (softmax 0-1 where 1 is definitely use)."
   ]
  },
  {
   "cell_type": "code",
   "execution_count": 1,
   "metadata": {},
   "outputs": [],
   "source": [
    "# needed imports\n",
    "import numpy as np\n",
    "import matplotlib.pyplot as plt\n",
    "import data_prep\n",
    "import keras\n",
    "\n",
    "# imports specific to loading MaNGA data here.\n",
    "import os\n",
    "from astropy.io import fits"
   ]
  },
  {
   "cell_type": "markdown",
   "metadata": {},
   "source": [
    "### Loading in a random velocity field in MaNGA data.\n",
    "- Plotting raw data\n",
    "- Using function to process data re-scales using opencv (cv2) and normalises to [-1, 1] range.\n",
    "- Plotting normalised format"
   ]
  },
  {
   "cell_type": "code",
   "execution_count": 2,
   "metadata": {},
   "outputs": [
    {
     "data": {
      "image/png": "[encoded data removed]",
      "text/plain": [
       "<Figure size 720x216 with 4 Axes>"
      ]
     },
     "metadata": {
      "needs_background": "light"
     },
     "output_type": "display_data"
    }
   ],
   "source": [
    "plateifu = '10001-12705'\n",
    "data_dir = '/Users/chrisduckworth/projects/ML_portfolio/kin_mis_classification/data/VOR10-GAU-MILESHC/'\n",
    "\n",
    "file_name = 'manga-' + plateifu + '-MAPS-VOR10-MILESHC-MILESHC.fits.gz'\n",
    "file_path = os.path.join(data_dir, plateifu.split(\"-\")[0], \n",
    "                         plateifu.split(\"-\")[1], file_name)\n",
    "\n",
    "hdu = fits.open(file_path)\n",
    "smask_ext = hdu['STELLAR_VEL'].header['QUALDATA']\n",
    "velocity_field = np.ma.MaskedArray(hdu['STELLAR_VEL'].data, mask = hdu[smask_ext].data > 0)\n",
    "\n",
    "# subplot showing original image\n",
    "fig, ax = plt.subplots(1,2, figsize=(10, 3))\n",
    "im_ori = ax[0].imshow(velocity_field, cmap='coolwarm')\n",
    "ax[0].set_title('Original')\n",
    "fig.colorbar(im_ori, ax=ax[0])\n",
    "\n",
    "# returning processed velocity field and plotting\n",
    "velocity_field = data_prep.process_velocity_field(velocity_field, shape=(32, 32))\n",
    "\n",
    "im_pro = ax[1].imshow(velocity_field, cmap='coolwarm')\n",
    "ax[1].set_title('Processed')\n",
    "fig.colorbar(im_pro, ax=ax[1])\n",
    "plt.show()"
   ]
  },
  {
   "cell_type": "markdown",
   "metadata": {},
   "source": [
    "### Loading in trained model and printing summary."
   ]
  },
  {
   "cell_type": "code",
   "execution_count": 3,
   "metadata": {},
   "outputs": [
    {
     "name": "stdout",
     "output_type": "stream",
     "text": [
      "Model: \"sequential\"\n",
      "_________________________________________________________________\n",
      "Layer (type)                 Output Shape              Param #   \n",
      "=================================================================\n",
      "flatten (Flatten)            (None, 1024)              0         \n",
      "_________________________________________________________________\n",
      "dense (Dense)                (None, 64)                65600     \n",
      "_________________________________________________________________\n",
      "dropout (Dropout)            (None, 64)                0         \n",
      "_________________________________________________________________\n",
      "dense_1 (Dense)              (None, 128)               8320      \n",
      "_________________________________________________________________\n",
      "dropout_1 (Dropout)          (None, 128)               0         \n",
      "_________________________________________________________________\n",
      "dense_2 (Dense)              (None, 80)                10320     \n",
      "_________________________________________________________________\n",
      "dropout_2 (Dropout)          (None, 80)                0         \n",
      "_________________________________________________________________\n",
      "dense_3 (Dense)              (None, 1)                 81        \n",
      "=================================================================\n",
      "Total params: 84,321\n",
      "Trainable params: 84,321\n",
      "Non-trainable params: 0\n",
      "_________________________________________________________________\n"
     ]
    }
   ],
   "source": [
    "model = keras.models.load_model('../fit-model/optimal_FCN_50epoch_ReduceLRonPlateau/')\n",
    "model.summary()"
   ]
  },
  {
   "cell_type": "markdown",
   "metadata": {},
   "source": [
    "### Using model to make preditions (i.e can we use this velocity field)"
   ]
  },
  {
   "cell_type": "code",
   "execution_count": 10,
   "metadata": {},
   "outputs": [
    {
     "name": "stdout",
     "output_type": "stream",
     "text": [
      "This velocity field scores 0.86 in terms of usability. Looks good to me!\n"
     ]
    }
   ],
   "source": [
    "# adding dimension for model input\n",
    "predict = model.predict( np.array([velocity_field,]) )[0]\n",
    "\n",
    "print('This velocity field scores {:2.2} in terms of usability. Looks good to me!'.format(predict[0]))"
   ]
  }
 ],
 "metadata": {
  "kernelspec": {
   "display_name": "Python 3",
   "language": "python",
   "name": "python3"
  },
  "language_info": {
   "codemirror_mode": {
    "name": "ipython",
    "version": 3
   },
   "file_extension": ".py",
   "mimetype": "text/x-python",
   "name": "python",
   "nbconvert_exporter": "python",
   "pygments_lexer": "ipython3",
   "version": "3.7.4"
  }
 },
 "nbformat": 4,
 "nbformat_minor": 4
}
