{
 "cells": [
  {
   "cell_type": "markdown",
   "metadata": {},
   "source": [
    "# clean_dataset\n",
    "Testing and cleaning the created dataset for class imbalances and checking normalisation of velocity fields.\n",
    "\n",
    "---\n"
   ]
  },
  {
   "cell_type": "code",
   "execution_count": 106,
   "metadata": {},
   "outputs": [],
   "source": [
    "import numpy as np\n",
    "import matplotlib.pyplot as plt\n",
    "import data_prep\n",
    "import seaborn as sns\n",
    "from sklearn import model_selection"
   ]
  },
  {
   "cell_type": "code",
   "execution_count": 4,
   "metadata": {},
   "outputs": [],
   "source": [
    "# loading in complete np.arrays of data\n",
    "inpath = '/Users/chrisduckworth/projects/ML_portfolio/kin_mis_classification/CNN/pre-processing/raw_dataset_files/'\n",
    "X = np.load(inpath + 'X_total.npy')\n",
    "y = np.load(inpath + 'y_total.npy')"
   ]
  },
  {
   "cell_type": "markdown",
   "metadata": {},
   "source": [
    "### Creating a countplot to check number of classifications for each category:\n",
    "    - 0 - Do not use\n",
    "    - 1 - Messy (potentially usable but maps are typically messy and global PAs will have higher errors)\n",
    "    - 2 - Clean (global PAs are well behaved and well defined)"
   ]
  },
  {
   "cell_type": "code",
   "execution_count": 14,
   "metadata": {},
   "outputs": [
    {
     "name": "stderr",
     "output_type": "stream",
     "text": [
      "/opt/miniconda3/lib/python3.7/site-packages/seaborn/_decorators.py:43: FutureWarning: Pass the following variable as a keyword arg: x. From version 0.12, the only valid positional argument will be `data`, and passing other arguments without an explicit keyword will result in an error or misinterpretation.\n",
      "  FutureWarning\n"
     ]
    },
    {
     "data": {
      "text/plain": [
       "<matplotlib.axes._subplots.AxesSubplot at 0x7f95711f74d0>"
      ]
     },
     "execution_count": 14,
     "metadata": {},
     "output_type": "execute_result"
    },
    {
     "data": {
      "image/png": "[encoded data removed]",
      "text/plain": [
       "<Figure size 432x288 with 1 Axes>"
      ]
     },
     "metadata": {
      "needs_background": "light"
     },
     "output_type": "display_data"
    }
   ],
   "source": [
    "# creating countplot to check for class imbalances.\n",
    "sns.countplot(y)"
   ]
  },
  {
   "cell_type": "markdown",
   "metadata": {},
   "source": [
    "From this we see some _fairly_ significant class size imbalances **and** a couple of pieces of data with incorrect labels (i.e. those with class = 3). \n",
    "- Removing data with class = 3."
   ]
  },
  {
   "cell_type": "code",
   "execution_count": 20,
   "metadata": {},
   "outputs": [],
   "source": [
    "X = X[y < 3] ; y = y[y < 3]"
   ]
  },
  {
   "cell_type": "markdown",
   "metadata": {},
   "source": [
    "### Checking X to see if there are any maps which have values outside of normalised range of [-1, 1]"
   ]
  },
  {
   "cell_type": "code",
   "execution_count": 38,
   "metadata": {},
   "outputs": [
    {
     "name": "stdout",
     "output_type": "stream",
     "text": [
      "0.5067555147058823% of pixels in X data have values outside of normalised range.\n"
     ]
    }
   ],
   "source": [
    "print('{}% of pixels in X data have values outside of normalised range.'.format(100 * X.ravel()[(X.ravel() > 1) | (X.ravel() < -1)].shape[0] / X.ravel().shape[0]))"
   ]
  },
  {
   "cell_type": "markdown",
   "metadata": {},
   "source": [
    "### Removing all maps containing extreme (outside of normalised range) pixel values."
   ]
  },
  {
   "cell_type": "code",
   "execution_count": 56,
   "metadata": {},
   "outputs": [],
   "source": [
    "mask = []\n",
    "\n",
    "for vf in X:\n",
    "    mask.append(True in (vf.ravel() > 1) | (vf.ravel() < -1))\n",
    "\n",
    "mask = np.array(mask)"
   ]
  },
  {
   "cell_type": "code",
   "execution_count": 60,
   "metadata": {},
   "outputs": [],
   "source": [
    "X = X[mask] ; y = y[mask]"
   ]
  },
  {
   "cell_type": "markdown",
   "metadata": {},
   "source": [
    "### Plotting a random subsample of X."
   ]
  },
  {
   "cell_type": "code",
   "execution_count": 105,
   "metadata": {},
   "outputs": [
    {
     "data": {
      "image/png": "[encoded data removed]",
      "text/plain": [
       "<Figure size 1440x360 with 10 Axes>"
      ]
     },
     "metadata": {
      "needs_background": "light"
     },
     "output_type": "display_data"
    }
   ],
   "source": [
    "labels = ['Unusable', 'Messy', 'Clean']\n",
    "fig, ax = plt.subplots(1, 10, figsize=(20, 5), sharex='all', sharey='all')\n",
    "\n",
    "for axis in ax.ravel():\n",
    "    ind = np.random.randint(y.shape[0])\n",
    "    axis.imshow(X[ind,:,:], cmap='coolwarm', vmin=-1, vmax=1)\n",
    "    axis.axis('off')\n",
    "    axis.annotate(labels[y[ind]], xy=(0.02, 0.88), xycoords='axes fraction', fontsize = 13, color='darkgreen')\n",
    "\n",
    "fig.subplots_adjust(hspace=-0.4, wspace=0)\n",
    "plt.savefig('example_classified_maps.pdf', format='pdf', bbox_inches='tight')"
   ]
  },
  {
   "cell_type": "markdown",
   "metadata": {},
   "source": [
    "### Shuffling remaining data and dividing into training, test and validation datasets."
   ]
  },
  {
   "cell_type": "code",
   "execution_count": 108,
   "metadata": {},
   "outputs": [
    {
     "name": "stdout",
     "output_type": "stream",
     "text": [
      "There are 6343 in the training, 2115 in the test, and 2115 in the validation datasets.\n"
     ]
    }
   ],
   "source": [
    "train_ratio = 0.60\n",
    "validation_ratio = 0.20\n",
    "test_ratio = 0.20\n",
    "\n",
    "# creating training sample\n",
    "X_train, X_test, y_train, y_test = model_selection.train_test_split(X, y, test_size = 1 - train_ratio)\n",
    "\n",
    "# creating test and validation training samples.\n",
    "X_val, X_test, y_val, y_test = model_selection.train_test_split(X_test, y_test, test_size = test_ratio / (test_ratio + validation_ratio)) \n",
    "\n",
    "print('There are {} in the training, {} in the test, and {} in the validation datasets.'.format(y_train.shape[0], y_test.shape[0], y_val.shape[0]))"
   ]
  },
  {
   "cell_type": "markdown",
   "metadata": {},
   "source": [
    "### Checking if there are any data imbalances between created datasets."
   ]
  },
  {
   "cell_type": "code",
   "execution_count": 117,
   "metadata": {},
   "outputs": [
    {
     "name": "stderr",
     "output_type": "stream",
     "text": [
      "/opt/miniconda3/lib/python3.7/site-packages/seaborn/_decorators.py:43: FutureWarning: Pass the following variable as a keyword arg: x. From version 0.12, the only valid positional argument will be `data`, and passing other arguments without an explicit keyword will result in an error or misinterpretation.\n",
      "  FutureWarning\n",
      "/opt/miniconda3/lib/python3.7/site-packages/seaborn/_decorators.py:43: FutureWarning: Pass the following variable as a keyword arg: x. From version 0.12, the only valid positional argument will be `data`, and passing other arguments without an explicit keyword will result in an error or misinterpretation.\n",
      "  FutureWarning\n",
      "/opt/miniconda3/lib/python3.7/site-packages/seaborn/_decorators.py:43: FutureWarning: Pass the following variable as a keyword arg: x. From version 0.12, the only valid positional argument will be `data`, and passing other arguments without an explicit keyword will result in an error or misinterpretation.\n",
      "  FutureWarning\n"
     ]
    },
    {
     "data": {
      "image/png": "[encoded data removed]",
      "text/plain": [
       "<Figure size 1080x216 with 3 Axes>"
      ]
     },
     "metadata": {
      "needs_background": "light"
     },
     "output_type": "display_data"
    }
   ],
   "source": [
    "fig, ax = plt.subplots(1,3, figsize=(15, 3))\n",
    "\n",
    "datasets = [y_train, y_test, y_val]\n",
    "ds_labels = ['Training', 'Test', 'Validation']\n",
    "\n",
    "for ind, axis in enumerate(ax.ravel()):\n",
    "    sns.countplot(datasets[ind], ax=axis)\n",
    "    axis.set_title(ds_labels[ind])"
   ]
  },
  {
   "cell_type": "markdown",
   "metadata": {},
   "source": [
    "### Saving created datasets"
   ]
  },
  {
   "cell_type": "code",
   "execution_count": 118,
   "metadata": {},
   "outputs": [],
   "source": [
    "outpath = '/Users/chrisduckworth/projects/ML_portfolio/kin_mis_classification/CNN/pre-processing/clean_dataset_files/'\n",
    "\n",
    "np.save(outpath + 'X_train', X_train)\n",
    "np.save(outpath + 'X_test', X_test)\n",
    "np.save(outpath + 'X_val', X_val)\n",
    "\n",
    "np.save(outpath + 'y_train', y_train)\n",
    "np.save(outpath + 'y_test', y_test)\n",
    "np.save(outpath + 'y_val', y_val)\n"
   ]
  }
 ],
 "metadata": {
  "kernelspec": {
   "display_name": "Python 3",
   "language": "python",
   "name": "python3"
  },
  "language_info": {
   "codemirror_mode": {
    "name": "ipython",
    "version": 3
   },
   "file_extension": ".py",
   "mimetype": "text/x-python",
   "name": "python",
   "nbconvert_exporter": "python",
   "pygments_lexer": "ipython3",
   "version": "3.7.4"
  }
 },
 "nbformat": 4,
 "nbformat_minor": 4
}
